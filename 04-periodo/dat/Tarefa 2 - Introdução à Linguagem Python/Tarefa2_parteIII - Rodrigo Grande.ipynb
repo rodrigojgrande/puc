{
  "nbformat": 4,
  "nbformat_minor": 0,
  "metadata": {
    "colab": {
      "name": "Tarefa2_parteIII.ipynb",
      "provenance": []
    },
    "kernelspec": {
      "name": "python3",
      "display_name": "Python 3"
    },
    "language_info": {
      "name": "python"
    },
    "accelerator": "GPU"
  },
  "cells": [
    {
      "cell_type": "markdown",
      "metadata": {
        "id": "xpAuMVCwfWs8"
      },
      "source": [
        "\n",
        "---\n",
        "\n",
        "---\n",
        "# Manipulação de dataframe - TAREFA 2 - Parte III\n",
        "---\n",
        "\n",
        "---\n",
        "\n",
        "\n",
        "\n",
        "\n",
        "\n"
      ]
    },
    {
      "cell_type": "markdown",
      "source": [
        "##1-) Leitura dos dados\n",
        "\n",
        "A base de dados [Churn_Modelling](https://github.com/malegopc/DSBD/blob/main/Datasets/Churn/Churn_Modelling.csv) é utilizada para prever (classificar) quando um cliente irá parar de utilizar o serviço de um banco.\n",
        "\n",
        "Conjunto de dados (características):\n",
        "\n",
        "* Número de Instâncias: 10.000\n",
        "\n",
        "* Número de Atributos: 13 atributos (incluindo o target)\n",
        "\n",
        "* Informações dos Atributos:\n",
        "\n",
        "  1. RowNumber\n",
        "  2. CustomerId\n",
        "  3. Surname\n",
        "  4. CreditScore\n",
        "  5. Geography\n",
        "  6. Gender Age\n",
        "  7. Tenure\n",
        "  8. Balance\n",
        "  9. NumOfProducts\n",
        "  10. HasCrCard\n",
        "  11. IsActiveMember\n",
        "  12. EstimatedSalary\n",
        "  13. Exited (variável de destino - target)\n",
        "\n",
        "*Clone o repositório de dados da disciplina (https://github.com/malegopc/DSBD), faça a leitura do arquivo **Churn_Modelling.csv** disponível na pasta [Churn_Modelling](https://github.com/malegopc/DSBD/blob/main/Datasets/Churn) e armazene-o numa variável do tipo dataframe. Basta utilizar a função [pd.read_csv](https://pandas.pydata.org/docs/reference/api/pandas.read_csv.html) da biblioteca pandas.*"
      ],
      "metadata": {
        "id": "h4hWkVHS1Gz3"
      }
    },
    {
      "cell_type": "code",
      "metadata": {
        "id": "dCHnPAsh1Hi1",
        "outputId": "c573a7bd-3915-4fd3-93cd-d886cbf07f67",
        "colab": {
          "base_uri": "https://localhost:8080/",
          "height": 0
        }
      },
      "source": [
        "import pandas as pd\n",
        "\n",
        "!git clone https://github.com/malegopc/DSBD.git\n",
        "\n",
        "df = pd.read_csv('/content/DSBD/Datasets/Churn/Churn_Modelling.csv')"
      ],
      "execution_count": 1,
      "outputs": [
        {
          "output_type": "stream",
          "name": "stdout",
          "text": [
            "Cloning into 'DSBD'...\n",
            "remote: Enumerating objects: 739, done.\u001b[K\n",
            "remote: Counting objects: 100% (282/282), done.\u001b[K\n",
            "remote: Compressing objects: 100% (167/167), done.\u001b[K\n",
            "remote: Total 739 (delta 147), reused 218 (delta 111), pack-reused 457 (from 1)\u001b[K\n",
            "Receiving objects: 100% (739/739), 14.80 MiB | 13.05 MiB/s, done.\n",
            "Resolving deltas: 100% (355/355), done.\n"
          ]
        }
      ]
    },
    {
      "cell_type": "markdown",
      "source": [
        "##2-) Visualização do dataframe\n",
        "\n",
        "*Mostre as 5 primeiras e as 5 últimas linhas do dataframe.*"
      ],
      "metadata": {
        "id": "qsZlHCY7Mox1"
      }
    },
    {
      "cell_type": "code",
      "source": [
        "# Exibir as 5 primeiras linhas do DataFrame\n",
        "print(df.head())\n",
        "\n",
        "# Exibir as 5 últimas linhas do DataFrame\n",
        "print(df.tail())"
      ],
      "metadata": {
        "id": "CSIVkJNyM5U8",
        "outputId": "cd0729ea-1797-44f7-826b-fb92a733beed",
        "colab": {
          "base_uri": "https://localhost:8080/",
          "height": 0
        }
      },
      "execution_count": 2,
      "outputs": [
        {
          "output_type": "stream",
          "name": "stdout",
          "text": [
            "   RowNumber  CustomerId   Surname  CreditScore Geography  Gender  Age  \\\n",
            "0          1    15634602  Hargrave          619    France  Female   42   \n",
            "1          2    15647311      Hill          608     Spain  Female   41   \n",
            "2          3    15619304      Onio          502    France  Female   42   \n",
            "3          4    15701354      Boni          699    France  Female   39   \n",
            "4          5    15737888  Mitchell          850     Spain  Female   43   \n",
            "\n",
            "   Tenure    Balance  NumOfProducts  HasCrCard  IsActiveMember  \\\n",
            "0       2       0.00              1          1               1   \n",
            "1       1   83807.86              1          0               1   \n",
            "2       8  159660.80              3          1               0   \n",
            "3       1       0.00              2          0               0   \n",
            "4       2  125510.82              1          1               1   \n",
            "\n",
            "   EstimatedSalary  Exited  \n",
            "0        101348.88       1  \n",
            "1        112542.58       0  \n",
            "2        113931.57       1  \n",
            "3         93826.63       0  \n",
            "4         79084.10       0  \n",
            "      RowNumber  CustomerId    Surname  CreditScore Geography  Gender  Age  \\\n",
            "9995       9996    15606229   Obijiaku          771    France    Male   39   \n",
            "9996       9997    15569892  Johnstone          516    France    Male   35   \n",
            "9997       9998    15584532        Liu          709    France  Female   36   \n",
            "9998       9999    15682355  Sabbatini          772   Germany    Male   42   \n",
            "9999      10000    15628319     Walker          792    France  Female   28   \n",
            "\n",
            "      Tenure    Balance  NumOfProducts  HasCrCard  IsActiveMember  \\\n",
            "9995       5       0.00              2          1               0   \n",
            "9996      10   57369.61              1          1               1   \n",
            "9997       7       0.00              1          0               1   \n",
            "9998       3   75075.31              2          1               0   \n",
            "9999       4  130142.79              1          1               0   \n",
            "\n",
            "      EstimatedSalary  Exited  \n",
            "9995         96270.64       0  \n",
            "9996        101699.77       0  \n",
            "9997         42085.58       1  \n",
            "9998         92888.52       1  \n",
            "9999         38190.78       0  \n"
          ]
        }
      ]
    },
    {
      "cell_type": "markdown",
      "source": [
        "##3-) Eliminação manual de variáveis\n",
        "\n",
        "*Elimine as variáveis (colunas): 'RowNumber', 'CustomerId' e 'Surname'.*"
      ],
      "metadata": {
        "id": "zT4SPkzz1QYr"
      }
    },
    {
      "cell_type": "code",
      "source": [
        "df = df.drop(['RowNumber', 'CustomerId', 'Surname'], axis=1)"
      ],
      "metadata": {
        "id": "StISlxO2oUoh"
      },
      "execution_count": 3,
      "outputs": []
    },
    {
      "cell_type": "markdown",
      "source": [
        "##4-) Dados ausentes\n",
        "\n",
        "*Verifique se há dados ausentes no dataframe.*"
      ],
      "metadata": {
        "id": "ztupOd_tJKDa"
      }
    },
    {
      "cell_type": "code",
      "source": [
        "# Verifique se há dados ausentes no dataframe.\n",
        "print(df.isnull().sum())"
      ],
      "metadata": {
        "id": "-46W42g4Jt18",
        "outputId": "d0d11697-0a63-454f-9578-82b3c9cdf95f",
        "colab": {
          "base_uri": "https://localhost:8080/",
          "height": 0
        }
      },
      "execution_count": 4,
      "outputs": [
        {
          "output_type": "stream",
          "name": "stdout",
          "text": [
            "CreditScore        0\n",
            "Geography          0\n",
            "Gender             0\n",
            "Age                0\n",
            "Tenure             0\n",
            "Balance            0\n",
            "NumOfProducts      0\n",
            "HasCrCard          0\n",
            "IsActiveMember     0\n",
            "EstimatedSalary    0\n",
            "Exited             0\n",
            "dtype: int64\n"
          ]
        }
      ]
    },
    {
      "cell_type": "markdown",
      "source": [
        "## 5-) Separa as variáveis\n",
        "\n",
        "*Utilizando a função **[iloc](https://pandas.pydata.org/docs/reference/api/pandas.DataFrame.iloc.html?highlight=iloc#pandas.DataFrame.iloc)**, copie para uma variável \"X\" os valores de todas as variáveis (colunas) do dataframe, exceto os valores da variável \"Exited\".*\n",
        "\n",
        "*E copie para uma variável \"y\" somente os valores da variável \"Exited\".*"
      ],
      "metadata": {
        "id": "k4GgSA8-gGZm"
      }
    },
    {
      "cell_type": "code",
      "metadata": {
        "id": "LypJ6UWi1KgF"
      },
      "source": [
        "X = df.iloc[:, :-1]\n",
        "y = df.iloc[:, -1]"
      ],
      "execution_count": 6,
      "outputs": []
    }
  ]
}
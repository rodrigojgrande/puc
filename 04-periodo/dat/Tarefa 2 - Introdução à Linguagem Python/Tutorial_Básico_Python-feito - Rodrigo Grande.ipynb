{
  "nbformat": 4,
  "nbformat_minor": 0,
  "metadata": {
    "colab": {
      "name": "Tutorial_Básico_Python.ipynb",
      "provenance": []
    },
    "kernelspec": {
      "display_name": "Python 3",
      "language": "python",
      "name": "python3"
    },
    "language_info": {
      "codemirror_mode": {
        "name": "ipython",
        "version": 3
      },
      "file_extension": ".py",
      "mimetype": "text/x-python",
      "name": "python",
      "nbconvert_exporter": "python",
      "pygments_lexer": "ipython3",
      "version": "3.7.6"
    }
  },
  "cells": [
    {
      "cell_type": "markdown",
      "metadata": {
        "id": "dzNng6vCL9eP"
      },
      "source": [
        "#Tutorial Básico da linguagem Python"
      ]
    },
    {
      "cell_type": "markdown",
      "metadata": {
        "id": "0vJLt3JRL9eR"
      },
      "source": [
        "Este tutorial apresenta uma introdução a alguns aspectos da linguagem de programação Python. As informações apresentadas aqui não cobrirão todos os detalhes desta linguagem. No entanto, livros inteiros se concentram em Python.  O leitor é encorajado a consultar fontes adicionais na linguagem Python. Um tutorial completo pode ser consultado em: https://docs.python.org/pt-br/3/tutorial/."
      ]
    },
    {
      "cell_type": "markdown",
      "metadata": {
        "id": "qVrTo-LhL9eS"
      },
      "source": [
        "##Introdução"
      ]
    },
    {
      "cell_type": "markdown",
      "metadata": {
        "id": "9t1gKp9PL9eV"
      },
      "source": [
        "A linguagem Python foi desenvolvida em 1991 pelo holandês Guido van Rossum. Python é uma linguagem de propósito geral, visualmente limpa e de sintaxe elegante, que não faz uso excessivo de marcações (ponto ou ponto e vírgula), marcadores (chaves, colchetes ou parênteses) e de palavras especiais (begin/end).\n",
        "\n",
        "Considerada de fácil aprendizado, compreensão e leitura. É uma linguagem interpretada com tipagem dinâmica (não exige declarações de tipos de dados) que pode ser facilmente transformada para uma aplicação por meio da importação de bibliotecas. É uma linguagem de alto nível, orientada a objetos, mas que permite o usuário programar de forma procedural, se desejar;\n",
        "\n",
        "Em Python a identação é fundamental, pois o código não irá funcionar se não estiver devidamente identado (artifício que indica quais estruturas estão subordinadas sem a necessidade de uso de chaves como acontece em outras linguagens);\n",
        "\n",
        "Python é um software livre (usuários e colaboradores podem modificar seu código fonte e compartilhar essas novas atualizações, contribuindo para o constante aperfeiçoamento da linguagem).\n",
        "\n"
      ]
    },
    {
      "cell_type": "markdown",
      "metadata": {
        "id": "nxvEkGXPM3Xh"
      },
      "source": [
        "###Versão do Python"
      ]
    },
    {
      "cell_type": "code",
      "metadata": {
        "id": "1L4Am0QATgOc",
        "colab": {
          "base_uri": "https://localhost:8080/",
          "height": 0
        },
        "outputId": "f6282cf1-21c0-4176-dc34-9b00a9871ec7"
      },
      "source": [
        "!python --version"
      ],
      "execution_count": 1,
      "outputs": [
        {
          "output_type": "stream",
          "name": "stdout",
          "text": [
            "Python 3.11.11\n"
          ]
        }
      ]
    },
    {
      "cell_type": "markdown",
      "metadata": {
        "id": "NwS_hu4xL9eo"
      },
      "source": [
        "###Comando de saída (impressão)"
      ]
    },
    {
      "cell_type": "code",
      "metadata": {
        "id": "SM0NWpEQeYNd",
        "colab": {
          "base_uri": "https://localhost:8080/",
          "height": 0
        },
        "outputId": "54b8d7f8-52d0-4836-ef53-070f3f5599e9"
      },
      "source": [
        "print(\"Hello World!\")"
      ],
      "execution_count": 2,
      "outputs": [
        {
          "output_type": "stream",
          "name": "stdout",
          "text": [
            "Hello World!\n"
          ]
        }
      ]
    },
    {
      "cell_type": "markdown",
      "metadata": {
        "id": "Md5c2Pvxel9o"
      },
      "source": [
        "###Comentários"
      ]
    },
    {
      "cell_type": "code",
      "metadata": {
        "id": "L5cURl2CV-i-",
        "colab": {
          "base_uri": "https://localhost:8080/",
          "height": 0
        },
        "outputId": "71c5312d-ae77-4092-818f-40afd6578b13"
      },
      "source": [
        "# Comentário de uma única linha (não tem efeito no programa)\n",
        "print(\"Hello World!\") # Diga alô mundo"
      ],
      "execution_count": 3,
      "outputs": [
        {
          "output_type": "stream",
          "name": "stdout",
          "text": [
            "Hello World!\n"
          ]
        }
      ]
    },
    {
      "cell_type": "markdown",
      "metadata": {
        "id": "AMSN_ZWAeOQ4"
      },
      "source": [
        "###Variáveis\n",
        "\n",
        "Uma variável não pode ser utilizada em uma expressão sem ter sido inicializada. A tipagem é dinâmica."
      ]
    },
    {
      "cell_type": "code",
      "metadata": {
        "id": "2Sm00f7ofzHt",
        "colab": {
          "base_uri": "https://localhost:8080/",
          "height": 0
        },
        "outputId": "05f92151-3530-4c67-c33e-869d2158e86e"
      },
      "source": [
        "preco  = 1000\n",
        "desconto = 0.05\n",
        "preco_final = preco - desconto * preco\n",
        "print(preco_final)\n",
        "print(type(preco_final))"
      ],
      "execution_count": 4,
      "outputs": [
        {
          "output_type": "stream",
          "name": "stdout",
          "text": [
            "950.0\n",
            "<class 'float'>\n"
          ]
        }
      ]
    },
    {
      "cell_type": "markdown",
      "metadata": {
        "id": "j7EB7oYXha7d"
      },
      "source": [
        "Também podemos inicializar mais de uma variável:"
      ]
    },
    {
      "cell_type": "code",
      "metadata": {
        "id": "fYrxnyothdGT",
        "colab": {
          "base_uri": "https://localhost:8080/",
          "height": 0
        },
        "outputId": "8c3548f8-1e8f-4a74-d3bb-c2e44243e66a"
      },
      "source": [
        "a, b = 10, 20\n",
        "print('a =', a, 'e b =', b)"
      ],
      "execution_count": 5,
      "outputs": [
        {
          "output_type": "stream",
          "name": "stdout",
          "text": [
            "a = 10 e b = 20\n"
          ]
        }
      ]
    },
    {
      "cell_type": "markdown",
      "metadata": {
        "id": "w8O8jBMChxFb"
      },
      "source": [
        "Podemos iniciar as variáveis com o valor None."
      ]
    },
    {
      "cell_type": "code",
      "metadata": {
        "id": "GAyy6iZGhyjR",
        "colab": {
          "base_uri": "https://localhost:8080/",
          "height": 0
        },
        "outputId": "6239e828-a36f-4255-b3c4-f12b8286c7b7"
      },
      "source": [
        "x = None\n",
        "print(x)\n",
        "print(type(x))"
      ],
      "execution_count": 6,
      "outputs": [
        {
          "output_type": "stream",
          "name": "stdout",
          "text": [
            "None\n",
            "<class 'NoneType'>\n"
          ]
        }
      ]
    },
    {
      "cell_type": "markdown",
      "metadata": {
        "id": "YoRJvulPiUK7"
      },
      "source": [
        "###Operadores aritméticos"
      ]
    },
    {
      "cell_type": "code",
      "metadata": {
        "id": "sk_8DFcuL9ey",
        "colab": {
          "base_uri": "https://localhost:8080/",
          "height": 0
        },
        "outputId": "c6b2577e-3e25-454a-c90d-93ea0d7be295"
      },
      "source": [
        "x = 10\n",
        "print(type(x))\n",
        "print(x + 1)   # Adição\n",
        "print(x - 1)   # Subtração\n",
        "print(x * 2)   # Multiplicação\n",
        "print(x ** 2)  # Exponenciação"
      ],
      "execution_count": 7,
      "outputs": [
        {
          "output_type": "stream",
          "name": "stdout",
          "text": [
            "<class 'int'>\n",
            "11\n",
            "9\n",
            "20\n",
            "100\n"
          ]
        }
      ]
    },
    {
      "cell_type": "code",
      "metadata": {
        "id": "U4Jl8K0tL9e4",
        "colab": {
          "base_uri": "https://localhost:8080/",
          "height": 0
        },
        "outputId": "eb8db9f4-6957-4207-c353-8a3591898c3c"
      },
      "source": [
        "x += 1\n",
        "print(x)\n",
        "x *= 2\n",
        "print(x)"
      ],
      "execution_count": 8,
      "outputs": [
        {
          "output_type": "stream",
          "name": "stdout",
          "text": [
            "11\n",
            "22\n"
          ]
        }
      ]
    },
    {
      "cell_type": "markdown",
      "metadata": {
        "id": "EqRS7qhBL9fC"
      },
      "source": [
        "###Booleanos (lógicos)"
      ]
    },
    {
      "cell_type": "markdown",
      "metadata": {
        "id": "Nv_LIVOJL9fD"
      },
      "source": [
        "Python implementa todos os operadores usuais para lógica booleana, mas usa palavras em inglês em vez de símbolos (&&, ||, etc.):"
      ]
    },
    {
      "cell_type": "code",
      "metadata": {
        "id": "RvoImwgGL9fE",
        "colab": {
          "base_uri": "https://localhost:8080/",
          "height": 0
        },
        "outputId": "26f7b435-6bc8-4ece-9b39-ce6b925ee3fe"
      },
      "source": [
        "t, f = True, False\n",
        "print(type(t))"
      ],
      "execution_count": 9,
      "outputs": [
        {
          "output_type": "stream",
          "name": "stdout",
          "text": [
            "<class 'bool'>\n"
          ]
        }
      ]
    },
    {
      "cell_type": "markdown",
      "metadata": {
        "id": "YQgmQfOgL9fI"
      },
      "source": [
        "Algumas operações lógicas:"
      ]
    },
    {
      "cell_type": "code",
      "metadata": {
        "id": "6zYm7WzCL9fK",
        "colab": {
          "base_uri": "https://localhost:8080/",
          "height": 0
        },
        "outputId": "6718ee76-ab90-4ec3-d530-59cf6afd76c4"
      },
      "source": [
        "print(t and f)\n",
        "print(t or f)\n",
        "print(not t)\n",
        "print(t != f)"
      ],
      "execution_count": 10,
      "outputs": [
        {
          "output_type": "stream",
          "name": "stdout",
          "text": [
            "False\n",
            "True\n",
            "False\n",
            "True\n"
          ]
        }
      ]
    },
    {
      "cell_type": "markdown",
      "metadata": {
        "id": "UQnQWFEyL9fP"
      },
      "source": [
        "###Strings"
      ]
    },
    {
      "cell_type": "code",
      "metadata": {
        "id": "AijEDtPFL9fP",
        "colab": {
          "base_uri": "https://localhost:8080/",
          "height": 0
        },
        "outputId": "d73c3a75-9500-4862-eab1-b10f3e7dfbc1"
      },
      "source": [
        "hello = 'hello'   # Strings podem usar aspas simples\n",
        "world = \"world\"   # ou duplas\n",
        "print(hello, len(hello))"
      ],
      "execution_count": 11,
      "outputs": [
        {
          "output_type": "stream",
          "name": "stdout",
          "text": [
            "hello 5\n"
          ]
        }
      ]
    },
    {
      "cell_type": "code",
      "metadata": {
        "id": "saDeaA7hL9fT",
        "colab": {
          "base_uri": "https://localhost:8080/",
          "height": 0
        },
        "outputId": "b4fe3fd8-3892-47f5-8bae-8969cb7f2359"
      },
      "source": [
        "hw = hello + ' ' + world  # concatenação\n",
        "print(hw)"
      ],
      "execution_count": 12,
      "outputs": [
        {
          "output_type": "stream",
          "name": "stdout",
          "text": [
            "hello world\n"
          ]
        }
      ]
    },
    {
      "cell_type": "markdown",
      "metadata": {
        "id": "bUpl35bIL9fc"
      },
      "source": [
        "Alguns métodos aplicados em strings:"
      ]
    },
    {
      "cell_type": "code",
      "metadata": {
        "id": "VOxGatlsL9fd",
        "colab": {
          "base_uri": "https://localhost:8080/",
          "height": 0
        },
        "outputId": "530298e3-d3cb-4235-84d8-56230693d8e6"
      },
      "source": [
        "s = \"hello\"\n",
        "print(s.capitalize())  # Capitalize\n",
        "print(s.upper())       # Caixa alta\n",
        "print(s.lower())       # Caixa baixa\n",
        "print(s.rjust(7))      # Justifica à direita preenchendo com espaços\n",
        "print(s.center(7))     # Centraliza preenchendo com espaços\n",
        "print(s.replace('l', '(ell)'))  # Substitui todas as instâncias de uma substring com outra"
      ],
      "execution_count": 13,
      "outputs": [
        {
          "output_type": "stream",
          "name": "stdout",
          "text": [
            "Hello\n",
            "HELLO\n",
            "hello\n",
            "  hello\n",
            " hello \n",
            "he(ell)(ell)o\n"
          ]
        }
      ]
    },
    {
      "cell_type": "markdown",
      "metadata": {
        "id": "tRI6DV1Pm799"
      },
      "source": [
        "Acessando pelo índice:"
      ]
    },
    {
      "cell_type": "code",
      "metadata": {
        "id": "eFg9aeqFm61c",
        "colab": {
          "base_uri": "https://localhost:8080/",
          "height": 0
        },
        "outputId": "bbe5554f-f75f-4ee2-856f-b311ef7049cb"
      },
      "source": [
        "str = 'pyhton'\n",
        "print(str[0])\n",
        "print(str[1])"
      ],
      "execution_count": 14,
      "outputs": [
        {
          "output_type": "stream",
          "name": "stdout",
          "text": [
            "p\n",
            "y\n"
          ]
        }
      ]
    },
    {
      "cell_type": "markdown",
      "metadata": {
        "id": "7U3uDVJynrCq"
      },
      "source": [
        "###Cast - conversão de tipos"
      ]
    },
    {
      "cell_type": "code",
      "metadata": {
        "id": "KXH4Uekvnt3_",
        "colab": {
          "base_uri": "https://localhost:8080/",
          "height": 0
        },
        "outputId": "a8901325-f113-4189-b14b-544d5a46affc"
      },
      "source": [
        "x = '123'\n",
        "print(x)\n",
        "print(type(x))\n",
        "x = float(x)\n",
        "print(x)\n",
        "print(type(x))\n",
        "print(int(x))"
      ],
      "execution_count": 15,
      "outputs": [
        {
          "output_type": "stream",
          "name": "stdout",
          "text": [
            "123\n",
            "<class 'str'>\n",
            "123.0\n",
            "<class 'float'>\n",
            "123\n"
          ]
        }
      ]
    },
    {
      "cell_type": "markdown",
      "metadata": {
        "id": "207J7XcYpJCU"
      },
      "source": [
        "###Print de texto com variáveis"
      ]
    },
    {
      "cell_type": "code",
      "metadata": {
        "id": "R6Ix-7BfpNL_",
        "colab": {
          "base_uri": "https://localhost:8080/",
          "height": 0
        },
        "outputId": "a6e2896a-bf53-4958-b349-731523524ea3"
      },
      "source": [
        "x = 5\n",
        "y = 2.5\n",
        "z = 'oi'\n",
        "print('x é igual a %d, y é igual a %.1f e z é igual a \\\"%s\\\" '%(x,y,z))\n",
        "print('x é igual a {}, y é igual a {} e z é igual a \\\"{}\\\" '.format(x,y,z))  # alternativa (existem outras)"
      ],
      "execution_count": 16,
      "outputs": [
        {
          "output_type": "stream",
          "name": "stdout",
          "text": [
            "x é igual a 5, y é igual a 2.5 e z é igual a \"oi\" \n",
            "x é igual a 5, y é igual a 2.5 e z é igual a \"oi\" \n"
          ]
        }
      ]
    },
    {
      "cell_type": "markdown",
      "metadata": {
        "id": "Z3Z6StZo12gz"
      },
      "source": [
        "### Leitura de dados (entradas)\n",
        "\n"
      ]
    },
    {
      "cell_type": "code",
      "metadata": {
        "id": "LaQTOLOB2TKj",
        "colab": {
          "base_uri": "https://localhost:8080/",
          "height": 0
        },
        "outputId": "d2b81383-9775-4410-9364-03137ae60e12"
      },
      "source": [
        "x = int(input(\"Entre com um valor inteiro: \"))\n",
        "print(x)\n",
        "y = float(input(\"Entre com um valor real: \"))\n",
        "print(y)\n",
        "s = input(\"Digite um texto: \") # os dados de entrada serão strings por padrão\n",
        "print(s)\n",
        "print(type(s))"
      ],
      "execution_count": 17,
      "outputs": [
        {
          "output_type": "stream",
          "name": "stdout",
          "text": [
            "Entre com um valor inteiro: 10\n",
            "10\n",
            "Entre com um valor real: 2.2\n",
            "2.2\n",
            "Digite um texto: teste\n",
            "teste\n",
            "<class 'str'>\n"
          ]
        }
      ]
    },
    {
      "cell_type": "markdown",
      "metadata": {
        "id": "YblHAXGyzune"
      },
      "source": [
        "###Estruturas de controle de seleção (if-else)"
      ]
    },
    {
      "cell_type": "code",
      "metadata": {
        "id": "5ynPUUebzyy8",
        "colab": {
          "base_uri": "https://localhost:8080/",
          "height": 0
        },
        "outputId": "76fa7df4-704d-4533-cf5e-42a417c93da7"
      },
      "source": [
        "expressao = 0\n",
        "resp = -2\n",
        "if expressao == True:\n",
        "    print(\"true\")\n",
        "else:\n",
        "    print(\"false\")\n",
        "if resp > 5:\n",
        "    print(resp)\n",
        "    print(\"positivo\")  #observe que o bloco é definido pela identação\n",
        "elif resp < 5:\n",
        "    print(resp)\n",
        "    print(\"negativo\")  #observe que o bloco é definido pela identação\n",
        "else:\n",
        "    print(resp)\n",
        "    print(\"nulo\")  #observe que o bloco é definido pela identação"
      ],
      "execution_count": 18,
      "outputs": [
        {
          "output_type": "stream",
          "name": "stdout",
          "text": [
            "false\n",
            "-2\n",
            "negativo\n"
          ]
        }
      ]
    },
    {
      "cell_type": "markdown",
      "metadata": {
        "id": "OK9zArla0xb4"
      },
      "source": [
        "###Estruturas de controle de repetição"
      ]
    },
    {
      "cell_type": "markdown",
      "metadata": {
        "id": "QETP0ccd3TOw"
      },
      "source": [
        "###For"
      ]
    },
    {
      "cell_type": "code",
      "metadata": {
        "id": "w8JM1se-02DY",
        "colab": {
          "base_uri": "https://localhost:8080/",
          "height": 0
        },
        "outputId": "a26653ec-b73b-4048-d8aa-739338cfd4c1"
      },
      "source": [
        " soma = 0\n",
        " N = 5\n",
        " for contador in range(5):  # A função range() retorna uma série numérica no intervalo enviado como argumento\n",
        "    x = int(input(\"Entre com um valor inteiro: \"))\n",
        "    soma = soma + x\n",
        " # imprima o resultado\n",
        " print (\"O valor da soma dos\", N, \"numeros é\", soma)"
      ],
      "execution_count": 19,
      "outputs": [
        {
          "output_type": "stream",
          "name": "stdout",
          "text": [
            "Entre com um valor inteiro: 10\n",
            "Entre com um valor inteiro: 5\n",
            "Entre com um valor inteiro: 4\n",
            "Entre com um valor inteiro: 2\n",
            "Entre com um valor inteiro: 1\n",
            "O valor da soma dos 5 numeros é 22\n"
          ]
        }
      ]
    },
    {
      "cell_type": "markdown",
      "metadata": {
        "id": "8IdOol0s34ID"
      },
      "source": [
        "###While"
      ]
    },
    {
      "cell_type": "code",
      "metadata": {
        "id": "F4FyMrvk35Z6",
        "colab": {
          "base_uri": "https://localhost:8080/",
          "height": 0
        },
        "outputId": "d0b2431f-e9ea-4db2-fe1d-fc3608db7cf0"
      },
      "source": [
        "soma = 0\n",
        "contador = 1\n",
        "N = 5\n",
        "# repete N vezes o trecho de programa\n",
        "while contador <= N:\n",
        "    x = int(input(\"Entre com um valor inteiro: \"))\n",
        "    soma = soma + x\n",
        "    contador = contador + 1\n",
        " # imprima o resultado\n",
        "print (\"O valor da soma dos\", N, \"numeros é\", soma)"
      ],
      "execution_count": 20,
      "outputs": [
        {
          "output_type": "stream",
          "name": "stdout",
          "text": [
            "Entre com um valor inteiro: 1\n",
            "Entre com um valor inteiro: 3\n",
            "Entre com um valor inteiro: 7\n",
            "Entre com um valor inteiro: 9\n",
            "Entre com um valor inteiro: 11\n",
            "O valor da soma dos 5 numeros é 31\n"
          ]
        }
      ]
    },
    {
      "cell_type": "markdown",
      "metadata": {
        "id": "p-6hClFjL9fk"
      },
      "source": [
        "###Containers"
      ]
    },
    {
      "cell_type": "markdown",
      "metadata": {
        "id": "FD9H18eQL9fk"
      },
      "source": [
        "Python inclue diversos tipos de \"containers\": listas, dicionários, conjuntos e tuplas."
      ]
    },
    {
      "cell_type": "markdown",
      "metadata": {
        "id": "UsIWOe0LL9fn"
      },
      "source": [
        "###Listas"
      ]
    },
    {
      "cell_type": "markdown",
      "metadata": {
        "id": "wzxX7rgWL9fn"
      },
      "source": [
        "Uma lista é equivalente a um vetor (array), mas seu tamanho pode ser modificado e pode conter elementos de diferentes tipos."
      ]
    },
    {
      "cell_type": "code",
      "metadata": {
        "id": "hk3A8pPcL9fp",
        "colab": {
          "base_uri": "https://localhost:8080/",
          "height": 0
        },
        "outputId": "a1d31570-4f7f-46bb-ead3-0475d3ee9873"
      },
      "source": [
        "list = [3, 1, 'Márcio']   # Cria uma lista\n",
        "print(list)\n",
        "print(list[0])\n",
        "print(list[-1])     # Índices negativos contam a partir do final da lista\n",
        "print(type(list))"
      ],
      "execution_count": 21,
      "outputs": [
        {
          "output_type": "stream",
          "name": "stdout",
          "text": [
            "[3, 1, 'Márcio']\n",
            "3\n",
            "Márcio\n",
            "<class 'list'>\n"
          ]
        }
      ]
    },
    {
      "cell_type": "markdown",
      "metadata": {
        "id": "Ct6P9X_vwfwP"
      },
      "source": [
        "Adicionando um elemento no final da lista:"
      ]
    },
    {
      "cell_type": "code",
      "metadata": {
        "id": "vJ0x5cF-L9fx",
        "colab": {
          "base_uri": "https://localhost:8080/",
          "height": 0
        },
        "outputId": "28fa613b-c9dd-4649-f9ef-eca07d843407"
      },
      "source": [
        "list.append('Leandro')\n",
        "print(list)"
      ],
      "execution_count": 22,
      "outputs": [
        {
          "output_type": "stream",
          "name": "stdout",
          "text": [
            "[3, 1, 'Márcio', 'Leandro']\n"
          ]
        }
      ]
    },
    {
      "cell_type": "markdown",
      "metadata": {
        "id": "2ozSeRTqxKYh"
      },
      "source": [
        "Removendo o último elemento:"
      ]
    },
    {
      "cell_type": "code",
      "metadata": {
        "id": "cxVCNRTNL9f1",
        "colab": {
          "base_uri": "https://localhost:8080/",
          "height": 0
        },
        "outputId": "cd9b859c-7c89-48c3-d5fe-f295674328d5"
      },
      "source": [
        "x = list.pop()     # Remove and return the last element of the list\n",
        "print(list)"
      ],
      "execution_count": 23,
      "outputs": [
        {
          "output_type": "stream",
          "name": "stdout",
          "text": [
            "[3, 1, 'Márcio']\n"
          ]
        }
      ]
    },
    {
      "cell_type": "markdown",
      "metadata": {
        "id": "ovahhxd_L9f5"
      },
      "source": [
        "###Slicing"
      ]
    },
    {
      "cell_type": "code",
      "metadata": {
        "id": "ninq666bL9f6",
        "colab": {
          "base_uri": "https://localhost:8080/",
          "height": 0
        },
        "outputId": "c876d88e-dbe7-433c-8337-dbcbb8aade92"
      },
      "source": [
        "nums = [0, 1, 2, 3, 4] # cria uma lista\n",
        "print(nums)         # Imprime \"[0, 1, 2, 3, 4]\"\n",
        "print(nums[2:4])    # Pega um slice do índice 2 a 4 (exclusive)\n",
        "print(nums[2:])     # Pega um slice do índice 2 até o fim\n",
        "print(nums[:2])     # Pega um slice do começo até o indice 2 (exclusive)\n",
        "print(nums[:])      # Pega a lista toda\"\n",
        "print(nums[:-1])    # Índices podem ser negativos (exclue o último elemento)\n",
        "print(nums[:-1])    # Índices podem ser negativos (exclue os dois últimos)\n",
        "nums[2:4] = [8, 9]  # Atribui a nova sublista\n",
        "print(nums)         # Prints \"[0, 1, 8, 9, 4]\""
      ],
      "execution_count": 24,
      "outputs": [
        {
          "output_type": "stream",
          "name": "stdout",
          "text": [
            "[0, 1, 2, 3, 4]\n",
            "[2, 3]\n",
            "[2, 3, 4]\n",
            "[0, 1]\n",
            "[0, 1, 2, 3, 4]\n",
            "[0, 1, 2, 3]\n",
            "[0, 1, 2, 3]\n",
            "[0, 1, 8, 9, 4]\n"
          ]
        }
      ]
    },
    {
      "cell_type": "markdown",
      "metadata": {
        "id": "UONpMhF4L9f_"
      },
      "source": [
        "### Loops com uma lista"
      ]
    },
    {
      "cell_type": "code",
      "metadata": {
        "id": "4cCOysfWL9gA",
        "colab": {
          "base_uri": "https://localhost:8080/",
          "height": 0
        },
        "outputId": "d163958f-5e82-4242-b35d-db6c0ff046ba"
      },
      "source": [
        "animais = ['cão', 'gato', 'macaco']\n",
        "for animal in animais:\n",
        "    print(animal)"
      ],
      "execution_count": 25,
      "outputs": [
        {
          "output_type": "stream",
          "name": "stdout",
          "text": [
            "cão\n",
            "gato\n",
            "macaco\n"
          ]
        }
      ]
    },
    {
      "cell_type": "markdown",
      "metadata": {
        "id": "H8xsUEFpL9gZ"
      },
      "source": [
        "###Dicionários"
      ]
    },
    {
      "cell_type": "markdown",
      "metadata": {
        "id": "kkjAGMAJL9ga"
      },
      "source": [
        "Um dicionário armazena pares (chave, valor):"
      ]
    },
    {
      "cell_type": "code",
      "metadata": {
        "id": "XBYI1MrYL9gb",
        "colab": {
          "base_uri": "https://localhost:8080/",
          "height": 0
        },
        "outputId": "7a29123a-844d-46fe-d572-faacbb96e259"
      },
      "source": [
        "dic = {'gato': 'felino', 'cão': 'amigo'}  # cria um dicionário\n",
        "print(dic['gato'])  # Pega uma entrada a partir da chave\n",
        "print('cão' in dic)  # Verifica se o dicionário tem uma determinada chave\n",
        "print(type(dic))"
      ],
      "execution_count": 26,
      "outputs": [
        {
          "output_type": "stream",
          "name": "stdout",
          "text": [
            "felino\n",
            "True\n",
            "<class 'dict'>\n"
          ]
        }
      ]
    },
    {
      "cell_type": "code",
      "metadata": {
        "id": "pS7e-G-HL9gf",
        "colab": {
          "base_uri": "https://localhost:8080/",
          "height": 0
        },
        "outputId": "0a56aee0-a2f0-4f5c-979c-eb64e535669c"
      },
      "source": [
        "dic['peixe'] = 'molhado' # Determina uma nova entrada no dicionário\n",
        "print(dic['peixe'])\n",
        "print(dic)"
      ],
      "execution_count": 27,
      "outputs": [
        {
          "output_type": "stream",
          "name": "stdout",
          "text": [
            "molhado\n",
            "{'gato': 'felino', 'cão': 'amigo', 'peixe': 'molhado'}\n"
          ]
        }
      ]
    },
    {
      "cell_type": "code",
      "metadata": {
        "id": "0EItdNBJL9go",
        "colab": {
          "base_uri": "https://localhost:8080/",
          "height": 0
        },
        "outputId": "4938bac7-77e1-4c58-dbee-546d735228f7"
      },
      "source": [
        "del dic['peixe']  # Remove um elemento do dicionário\n",
        "print(dic)"
      ],
      "execution_count": 28,
      "outputs": [
        {
          "output_type": "stream",
          "name": "stdout",
          "text": [
            "{'gato': 'felino', 'cão': 'amigo'}\n"
          ]
        }
      ]
    },
    {
      "cell_type": "markdown",
      "metadata": {
        "id": "V9MHfUdvL9g2"
      },
      "source": [
        "###Sets (conjuntos)"
      ]
    },
    {
      "cell_type": "markdown",
      "metadata": {
        "id": "Rpm4UtNpL9g2"
      },
      "source": [
        "Um conjunto (set) é uma coleção não indexada de elementos distintos."
      ]
    },
    {
      "cell_type": "code",
      "metadata": {
        "id": "MmyaniLsL9g2",
        "colab": {
          "base_uri": "https://localhost:8080/",
          "height": 0
        },
        "outputId": "3292bfcf-a8e6-4e07-82d0-ef7b0f653857"
      },
      "source": [
        "animais = {'cão', 'gato'}\n",
        "print('gato' in animais)   # verifica se um elemento está no conjunto\n",
        "print('peixe' in animais)"
      ],
      "execution_count": 31,
      "outputs": [
        {
          "output_type": "stream",
          "name": "stdout",
          "text": [
            "True\n",
            "False\n"
          ]
        }
      ]
    },
    {
      "cell_type": "code",
      "metadata": {
        "id": "ElJEyK86L9g6",
        "colab": {
          "base_uri": "https://localhost:8080/",
          "height": 0
        },
        "outputId": "a1828bc1-5c3c-493e-b330-f17eb9a0d891"
      },
      "source": [
        "animais.add('peixe')      # Adiciona um elemento\n",
        "print(animais)\n",
        "print(len(animais))"
      ],
      "execution_count": 32,
      "outputs": [
        {
          "output_type": "stream",
          "name": "stdout",
          "text": [
            "{'cão', 'gato', 'peixe'}\n",
            "3\n"
          ]
        }
      ]
    },
    {
      "cell_type": "code",
      "metadata": {
        "id": "5uGmrxdPL9g9",
        "colab": {
          "base_uri": "https://localhost:8080/",
          "height": 0
        },
        "outputId": "698d7083-91bd-48c1-fa21-603f990be199"
      },
      "source": [
        "animais.add('gato')       # Não adiciona um elemeneto que já existe no conjunto (não faz nada)\n",
        "print(len(animais))\n",
        "animais.remove('gato')    # Remove um elemento\n",
        "print(animais)"
      ],
      "execution_count": 33,
      "outputs": [
        {
          "output_type": "stream",
          "name": "stdout",
          "text": [
            "3\n",
            "{'cão', 'peixe'}\n"
          ]
        }
      ]
    },
    {
      "cell_type": "markdown",
      "metadata": {
        "id": "qPsHSKB1L9hF"
      },
      "source": [
        "###Tuplas"
      ]
    },
    {
      "cell_type": "markdown",
      "metadata": {
        "id": "kucc0LKVL9hG"
      },
      "source": [
        "Uma tupla é uma lista ordenada (imutável) de valores. Uma tupla é em muitos aspectos semelhante a uma lista; uma das diferenças mais importantes é que tuplas podem ser usadas como chaves em dicionários e como elementos de conjuntos, enquanto listas não."
      ]
    },
    {
      "cell_type": "code",
      "metadata": {
        "id": "9wHUyTKxL9hH",
        "colab": {
          "base_uri": "https://localhost:8080/",
          "height": 0
        },
        "outputId": "bb0d80b5-1657-48a1-a5b7-80dd1014c733"
      },
      "source": [
        "d = {(x, x + 1): x for x in range(10)}  # Cria um dicionário com chaves tuplas\n",
        "print(d)\n",
        "t = (5, 6)       # Cria uma tupla\n",
        "print(type(t))\n",
        "print(d[t])\n",
        "print(d[(1, 2)])"
      ],
      "execution_count": 34,
      "outputs": [
        {
          "output_type": "stream",
          "name": "stdout",
          "text": [
            "{(0, 1): 0, (1, 2): 1, (2, 3): 2, (3, 4): 3, (4, 5): 4, (5, 6): 5, (6, 7): 6, (7, 8): 7, (8, 9): 8, (9, 10): 9}\n",
            "<class 'tuple'>\n",
            "5\n",
            "1\n"
          ]
        }
      ]
    },
    {
      "cell_type": "markdown",
      "metadata": {
        "id": "AXA4jrEOL9hM"
      },
      "source": [
        "###Funções"
      ]
    },
    {
      "cell_type": "markdown",
      "metadata": {
        "id": "WaRms-QfL9hN"
      },
      "source": [
        "Funções em Python são definidas usando a palavra chave `def`."
      ]
    },
    {
      "cell_type": "code",
      "metadata": {
        "id": "kiMDUr58L9hN",
        "colab": {
          "base_uri": "https://localhost:8080/",
          "height": 0
        },
        "outputId": "53550929-03b7-4818-cb74-a3b5b6482f7a"
      },
      "source": [
        "def sinal(x):\n",
        "    if x > 0:\n",
        "        return 'positivo'\n",
        "    elif x < 0:\n",
        "        return 'negativo'\n",
        "    else:\n",
        "        return 'zero'\n",
        "\n",
        "for x in [-1, 0, 1]:\n",
        "    print(sinal(x))"
      ],
      "execution_count": 35,
      "outputs": [
        {
          "output_type": "stream",
          "name": "stdout",
          "text": [
            "negativo\n",
            "zero\n",
            "positivo\n"
          ]
        }
      ]
    },
    {
      "cell_type": "markdown",
      "metadata": {
        "id": "ObA9PRtQL9hT"
      },
      "source": [
        "###Classes"
      ]
    },
    {
      "cell_type": "markdown",
      "metadata": {
        "id": "hAzL_lTkL9hU"
      },
      "source": [
        "\n",
        "A sintaxe para definir classes em Python é direta:"
      ]
    },
    {
      "cell_type": "code",
      "metadata": {
        "id": "RWdbaGigL9hU",
        "colab": {
          "base_uri": "https://localhost:8080/",
          "height": 0
        },
        "outputId": "c7038a78-6b31-4aba-d88f-e9495ddc424e"
      },
      "source": [
        "class Triangulo(object):\n",
        "\n",
        "    def __init__(self, angulo1, angulo2, angulo3):\n",
        "        self.angulo1 = angulo1\n",
        "        self.angulo2 = angulo2\n",
        "        self.angulo3 = angulo3\n",
        "\n",
        "    def soma_angulos(self):\n",
        "        return self.angulo1 + self.angulo2 + self.angulo3\n",
        "\n",
        "    def check_angulos(self):\n",
        "        if(self.soma_angulos() == 180):\n",
        "            return True\n",
        "        else:\n",
        "            return False\n",
        "\n",
        "figure = Triangulo(30, 40, 50)\n",
        "print(figure.soma_angulos())\n",
        "print(figure.check_angulos())"
      ],
      "execution_count": 36,
      "outputs": [
        {
          "output_type": "stream",
          "name": "stdout",
          "text": [
            "120\n",
            "False\n"
          ]
        }
      ]
    },
    {
      "cell_type": "markdown",
      "metadata": {
        "id": "qjVPLEHYIqwr"
      },
      "source": [
        "###Imports\n",
        "\n",
        "Para importar um módulo utilizamos o import."
      ]
    },
    {
      "cell_type": "code",
      "metadata": {
        "id": "OdjOHphnItW8",
        "colab": {
          "base_uri": "https://localhost:8080/",
          "height": 0
        },
        "outputId": "dd3c0f25-aa7e-4bbd-fd53-f49407e05474"
      },
      "source": [
        "import math\n",
        "print(math.sqrt(49))"
      ],
      "execution_count": 37,
      "outputs": [
        {
          "output_type": "stream",
          "name": "stdout",
          "text": [
            "7.0\n"
          ]
        }
      ]
    },
    {
      "cell_type": "markdown",
      "metadata": {
        "id": "Rp5EvhATI2-h"
      },
      "source": [
        "\n",
        "O código acima importará todos os módulos de math, para importar apenas o necessário utilizamos from."
      ]
    },
    {
      "cell_type": "code",
      "metadata": {
        "id": "T_TB1BBxI6lh",
        "colab": {
          "base_uri": "https://localhost:8080/",
          "height": 0
        },
        "outputId": "5fa67050-a47f-4127-ff44-1cb269b6571f"
      },
      "source": [
        "from math import sqrt\n",
        "print(math.sqrt(49))"
      ],
      "execution_count": 38,
      "outputs": [
        {
          "output_type": "stream",
          "name": "stdout",
          "text": [
            "7.0\n"
          ]
        }
      ]
    }
  ]
}